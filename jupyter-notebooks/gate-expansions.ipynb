{
 "cells": [
  {
   "cell_type": "markdown",
   "metadata": {},
   "source": [
    "# Gate Expansions\n",
    "\n",
    "This notebook is intended to illustrate various gate expansions.\n",
    "Qubiter allows one to write on a single line in an English file \n",
    "many types of U(2) matrices with 0, 1, or more controls attached to it. However, there are well known identities for expanding such gates into\n",
    "a sequence of (1) single qubit rotations and (2) CNOTs with a single control.\n",
    "This is useful because most quantum computers (for example, IBM Quantum Experience)\n",
    "can only perform (1) and (2). Expansions into (1) and (2)\n",
    "can be performed automatically by Qubiter. Here is how.\n",
    "\n",
    "The expansions used by Qubiter \n",
    "were all discovered long ago. They can all be\n",
    "found in the following 1995 quantum computing paper:\n",
    "\n",
    "https://arxiv.org/abs/quant-ph/9503016\n",
    "\n",
    "\n",
    "\n"
   ]
  },
  {
   "cell_type": "markdown",
   "metadata": {},
   "source": [
    "First change your working directory to the qubiter directory in your computer, and add its path to the path environment variable."
   ]
  },
  {
   "cell_type": "code",
   "execution_count": 1,
   "metadata": {},
   "outputs": [
    {
     "name": "stdout",
     "output_type": "stream",
     "text": [
      "/home/jupyter/Notebooks/Quantum/qubiter/jupyter-notebooks\n",
      "/home/jupyter/Notebooks/Quantum/qubiter\n"
     ]
    }
   ],
   "source": [
    "import os\n",
    "import sys\n",
    "print(os.getcwd())\n",
    "os.chdir('../')\n",
    "print(os.getcwd())\n",
    "sys.path.insert(0,os.getcwd())"
   ]
  },
  {
   "cell_type": "code",
   "execution_count": 2,
   "metadata": {
    "collapsed": true
   },
   "outputs": [],
   "source": [
    "from CktExpander import *\n",
    "from SEO_writer import *"
   ]
  },
  {
   "cell_type": "code",
   "execution_count": 3,
   "metadata": {
    "collapsed": true
   },
   "outputs": [],
   "source": [
    "file_prefix = 'io_folder/expansions_examples'\n",
    "num_bits = 3\n",
    "emb = CktEmbedder(num_bits, num_bits, range(num_bits))\n",
    "wr = SEO_writer(file_prefix, emb)\n",
    "\n",
    "trols1 = Controls(num_bits)\n",
    "trols1.bit_pos_to_kind = {0: True}\n",
    "trols1.refresh_lists()\n",
    "\n",
    "trols2 = Controls(num_bits)\n",
    "trols2.bit_pos_to_kind = {0: True, 1: False}\n",
    "trols2.refresh_lists()\n"
   ]
  },
  {
   "cell_type": "markdown",
   "metadata": {},
   "source": [
    "Write simple CNOT ( $\\sigma_X(1)^{n(0)}$ )"
   ]
  },
  {
   "cell_type": "code",
   "execution_count": 4,
   "metadata": {
    "collapsed": true
   },
   "outputs": [],
   "source": [
    "wr.write_NOTA('simple cnot ( sigx(1)^n(0) )')\n",
    "wr.write_controlled_one_bit_gate(1, trols1, OneBitGates.sigx)"
   ]
  },
  {
   "cell_type": "markdown",
   "metadata": {},
   "source": [
    "Write controlled sigy ( $\\sigma_Y(1)^{n(0)}$ )"
   ]
  },
  {
   "cell_type": "code",
   "execution_count": 5,
   "metadata": {
    "collapsed": true
   },
   "outputs": [],
   "source": [
    "wr.write_NOTA('controlled sigy ( sigy(1)^n(0) )')\n",
    "wr.write_controlled_one_bit_gate(1, trols1, OneBitGates.sigy)"
   ]
  },
  {
   "cell_type": "markdown",
   "metadata": {},
   "source": [
    "Let $R = e^{i (\\theta_X \\sigma_X + \\theta_Y \\sigma_Y + \\theta_Z \\sigma_Z )}$.\n",
    "\n",
    "Write controlled Y,Z rotation ( $R(1)^{n(0)}$ with $\\theta_X = 0$ )"
   ]
  },
  {
   "cell_type": "code",
   "execution_count": 6,
   "metadata": {
    "collapsed": true
   },
   "outputs": [],
   "source": [
    "# let exp(i*(radx*sigx + rady*sigy + radz*sigz)\n",
    "wr.write_NOTA('controlled Y,Z rotation ( rot(1)^n(0) with radx = 0 )')\n",
    "wr.write_controlled_one_bit_gate(1, trols1, OneBitGates.rot,\n",
    "                                 [0.0, np.pi/3, np.pi/4])"
   ]
  },
  {
   "cell_type": "markdown",
   "metadata": {},
   "source": [
    "Write controlled rotation ( $R(1)^{n(0)}$ )"
   ]
  },
  {
   "cell_type": "code",
   "execution_count": 7,
   "metadata": {
    "collapsed": true
   },
   "outputs": [],
   "source": [
    "wr.write_NOTA('controlled rotation ( rot(1)^n(0) )')\n",
    "wr.write_controlled_one_bit_gate(1, trols1, OneBitGates.rot,\n",
    "                                 [np.pi/5, np.pi/3, np.pi/4])"
   ]
  },
  {
   "cell_type": "markdown",
   "metadata": {},
   "source": [
    "Write 2-controlled not ( $\\sigma_X(2)^{\\overline{n}(1)n(0)}$ )"
   ]
  },
  {
   "cell_type": "code",
   "execution_count": 8,
   "metadata": {
    "collapsed": true
   },
   "outputs": [],
   "source": [
    "wr.write_NOTA('2-controlled not ( sigx(2)^(nbar(1)n(0)) )')\n",
    "wr.write_controlled_one_bit_gate(2, trols2, OneBitGates.sigx)"
   ]
  },
  {
   "cell_type": "markdown",
   "metadata": {},
   "source": [
    "Write swap of 0 and 1 ( $E(0, 1)$ )"
   ]
  },
  {
   "cell_type": "code",
   "execution_count": 9,
   "metadata": {
    "collapsed": true
   },
   "outputs": [],
   "source": [
    "wr.write_NOTA('swap of 0 and 1')\n",
    "wr.write_bit_swap(0, 1)"
   ]
  },
  {
   "cell_type": "markdown",
   "metadata": {},
   "source": [
    "Write swap of 1 and 2 controlled by 0 ( $E(1, 2)^{n(0)}$ )"
   ]
  },
  {
   "cell_type": "code",
   "execution_count": 10,
   "metadata": {
    "collapsed": true
   },
   "outputs": [],
   "source": [
    "wr.write_NOTA('swap of 1 and 2 controlled by 0')\n",
    "wr.write_controlled_bit_swap(1, 2, trols1)"
   ]
  },
  {
   "cell_type": "code",
   "execution_count": 11,
   "metadata": {
    "collapsed": true
   },
   "outputs": [],
   "source": [
    "wr.close_files()"
   ]
  },
  {
   "cell_type": "markdown",
   "metadata": {},
   "source": [
    "Look at\n",
    "\n",
    "* <a href=\"../io_folder/expansions_examples_3_eng.txt\">../io_folder/expansions_examples_3_eng.txt</a>\n",
    "* <a href=\"../io_folder/expansions_examples_3_ZLpic.txt\">../io_folder/expansions_examples_3_ZLpic.txt</a>\n",
    "\n",
    "to see the quantum circuit that was generated.\n",
    "Let's print the Picture file"
   ]
  },
  {
   "cell_type": "code",
   "execution_count": 12,
   "metadata": {},
   "outputs": [
    {
     "name": "stdout",
     "output_type": "stream",
     "text": [
      "NOTA\tsimple cnot ( sigx(1)^n(0) )\n",
      "|   X---@   \n",
      "NOTA\tcontrolled sigy ( sigy(1)^n(0) )\n",
      "|   Y---@   \n",
      "NOTA\tcontrolled Y,Z rotation ( rot(1)^n(0) with radx = 0 )\n",
      "|   R---@   \n",
      "NOTA\tcontrolled rotation ( rot(1)^n(0) )\n",
      "|   R---@   \n",
      "NOTA\t2-controlled not ( sigx(2)^(nbar(1)n(0)) )\n",
      "X---O---@   \n",
      "NOTA\tswap of 0 and 1\n",
      "|   <--->   \n",
      "NOTA\tswap of 1 and 2 controlled by 0\n",
      "<--->---@   \n",
      "\n"
     ]
    }
   ],
   "source": [
    "pic_file = file_prefix + '_3_ZLpic.txt'\n",
    "with open(pic_file) as f:\n",
    "    print(f.read())"
   ]
  },
  {
   "cell_type": "markdown",
   "metadata": {},
   "source": [
    "One can create new English and Picture files\n",
    "from those we just created simply\n",
    "by creating an object of the CktExpander class.\n",
    "The new files contain an expansion of every line of the old files."
   ]
  },
  {
   "cell_type": "code",
   "execution_count": 13,
   "metadata": {},
   "outputs": [
    {
     "data": {
      "text/plain": [
       "<CktExpander.CktExpander at 0x7f35bc1b9550>"
      ]
     },
     "execution_count": 13,
     "metadata": {},
     "output_type": "execute_result"
    }
   ],
   "source": [
    "CktExpander(file_prefix, num_bits)"
   ]
  },
  {
   "cell_type": "markdown",
   "metadata": {},
   "source": [
    "Look at\n",
    "\n",
    "* <a href=\"../io_folder/expansions_examples_X1_3_eng.txt\">../io_folder/expansions_examples_X1_3_eng.txt</a>\n",
    "* <a href=\"../io_folder/expansions_examples_X1_3_ZLpic.txt\">../io_folder/expansions_examples_X1_3_ZLpic.txt</a>\n",
    "\n",
    "to see the new expanded quantum circuit that was generated. (Note that\n",
    "the new files have the same names as the old ones except that an \"_X1\" has been \n",
    "added to the names of the old files).\n",
    "Let's print the new Picture file"
   ]
  },
  {
   "cell_type": "code",
   "execution_count": 14,
   "metadata": {},
   "outputs": [
    {
     "name": "stdout",
     "output_type": "stream",
     "text": [
      "NOTA\tsimple cnot ( sigx(1)^n(0) )\n",
      "|   X---@   \n",
      "NOTA\tcontrolled sigy ( sigy(1)^n(0) )\n",
      "|   R   |   \n",
      "|   X---@   \n",
      "|   R   |   \n",
      "|   |   Rz  \n",
      "NOTA\tcontrolled Y,Z rotation ( rot(1)^n(0) with radx = 0 )\n",
      "|   X---@   \n",
      "|   R   |   \n",
      "|   X---@   \n",
      "|   R   |   \n",
      "NOTA\tcontrolled rotation ( rot(1)^n(0) )\n",
      "|   R   |   \n",
      "|   X---@   \n",
      "|   R   |   \n",
      "|   X---@   \n",
      "|   R   |   \n",
      "NOTA\t2-controlled not ( sigx(2)^(nbar(1)n(0)) )\n",
      "|   X   |   \n",
      "R   |   |   \n",
      "X---+---@   \n",
      "R   |   |   \n",
      "X---+---@   \n",
      "R   |   |   \n",
      "|   |   Rz  \n",
      "|   @---X   \n",
      "R   |   |   \n",
      "X---+---@   \n",
      "R   |   |   \n",
      "X---+---@   \n",
      "R   |   |   \n",
      "|   |   Rz  \n",
      "|   @---X   \n",
      "R   |   |   \n",
      "X---@   |   \n",
      "R   |   |   \n",
      "X---@   |   \n",
      "R   |   |   \n",
      "|   Rz  |   \n",
      "|   X   |   \n",
      "NOTA\tswap of 0 and 1\n",
      "|   X---@   \n",
      "|   @---X   \n",
      "|   X---@   \n",
      "NOTA\tswap of 1 and 2 controlled by 0\n",
      "R   |   |   \n",
      "X---+---@   \n",
      "R   |   |   \n",
      "X---+---@   \n",
      "R   |   |   \n",
      "|   |   Rz  \n",
      "|   @---X   \n",
      "R   |   |   \n",
      "X---+---@   \n",
      "R   |   |   \n",
      "X---+---@   \n",
      "R   |   |   \n",
      "|   |   Rz  \n",
      "|   @---X   \n",
      "R   |   |   \n",
      "X---@   |   \n",
      "R   |   |   \n",
      "X---@   |   \n",
      "R   |   |   \n",
      "|   Rz  |   \n",
      "|   R   |   \n",
      "|   X---@   \n",
      "|   R   |   \n",
      "|   X---@   \n",
      "|   R   |   \n",
      "|   |   Rz  \n",
      "@---+---X   \n",
      "|   R   |   \n",
      "|   X---@   \n",
      "|   R   |   \n",
      "|   X---@   \n",
      "|   R   |   \n",
      "|   |   Rz  \n",
      "@---+---X   \n",
      "|   R   |   \n",
      "@---X   |   \n",
      "|   R   |   \n",
      "@---X   |   \n",
      "|   R   |   \n",
      "Rz  |   |   \n",
      "R   |   |   \n",
      "X---+---@   \n",
      "R   |   |   \n",
      "X---+---@   \n",
      "R   |   |   \n",
      "|   |   Rz  \n",
      "|   @---X   \n",
      "R   |   |   \n",
      "X---+---@   \n",
      "R   |   |   \n",
      "X---+---@   \n",
      "R   |   |   \n",
      "|   |   Rz  \n",
      "|   @---X   \n",
      "R   |   |   \n",
      "X---@   |   \n",
      "R   |   |   \n",
      "X---@   |   \n",
      "R   |   |   \n",
      "|   Rz  |   \n",
      "\n"
     ]
    }
   ],
   "source": [
    "pic_file = file_prefix + '_X1_3_ZLpic.txt'\n",
    "with open(pic_file) as f:\n",
    "    print(f.read())"
   ]
  },
  {
   "cell_type": "markdown",
   "metadata": {},
   "source": [
    "One can count the number of CNOTs in the newly created file by simply creating an object of class\n",
    "SEO_reader and reading the log file that this creates."
   ]
  },
  {
   "cell_type": "code",
   "execution_count": 15,
   "metadata": {},
   "outputs": [
    {
     "name": "stdout",
     "output_type": "stream",
     "text": [
      "Number of lines in file = 106\n",
      "Number of Elem. Ops = 99\n",
      "Number of SIGX Ops (Controlled or uncontrolled NOTs) = 43\n",
      "\n"
     ]
    }
   ],
   "source": [
    "SEO_reader(file_prefix + '_X1', num_bits)\n",
    "log_file = file_prefix + '_X1_3_log.txt'\n",
    "with open(log_file) as f:\n",
    "    print(f.read())\n"
   ]
  },
  {
   "cell_type": "markdown",
   "metadata": {},
   "source": [
    "If a quantum circuit contains only qubit rotations and\n",
    "CNOTs, then its number of CNOTs is a measure of the time \n",
    "complexity of the circuit. Some would say it's even\n",
    "a measure of TIME. That's because single qubit rotations\n",
    "are simple in the sense that they act on a single qubit,\n",
    "whereas CNOTs are much less trivial because they\n",
    "represent two body interactions."
   ]
  },
  {
   "cell_type": "code",
   "execution_count": null,
   "metadata": {
    "collapsed": true
   },
   "outputs": [],
   "source": []
  }
 ],
 "metadata": {
  "anaconda-cloud": {},
  "kernelspec": {
   "display_name": "Python 3",
   "language": "python",
   "name": "python3"
  },
  "language_info": {
   "codemirror_mode": {
    "name": "ipython",
    "version": 3
   },
   "file_extension": ".py",
   "mimetype": "text/x-python",
   "name": "python",
   "nbconvert_exporter": "python",
   "pygments_lexer": "ipython3",
   "version": "3.6.0"
  },
  "toc": {
   "colors": {
    "hover_highlight": "#DAA520",
    "running_highlight": "#FF0000",
    "selected_highlight": "#FFD700"
   },
   "moveMenuLeft": true,
   "nav_menu": {
    "height": "30px",
    "width": "252px"
   },
   "navigate_menu": true,
   "number_sections": true,
   "sideBar": true,
   "threshold": 4,
   "toc_cell": false,
   "toc_section_display": "block",
   "toc_window_display": false,
   "widenNotebook": false
  }
 },
 "nbformat": 4,
 "nbformat_minor": 1
}
