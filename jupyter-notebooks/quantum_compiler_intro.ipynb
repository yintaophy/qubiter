{
 "cells": [
  {
   "cell_type": "markdown",
   "metadata": {
    "nbpresent": {
     "id": "6a565a69-3d02-4666-8517-781b8d3ff6a0"
    }
   },
   "source": [
    "# Quantum Compiling Intro\n",
    "\n",
    "The purpose of this notebook is to give a quick introduction to Qubiter's \n",
    "CSD quantum compiler capabilities. \n",
    "\n",
    "By a quantum complier, we mean\n",
    "a computer program that takes as input an arbitrary unitary matrix $U$ of dimension $N=2^n$\n",
    "and returns a SEO (sequence of elementary operations, in this case CNOTs and single qubit\n",
    "rotations) that equals $U$. There are various kinds of quantum \n",
    "compilers. Suppose $U$ is of the form $U=e^{-itH}$, where $t$ is time and $H$ is\n",
    "the Hamiltonian operator. If $H$ has a form which is known a priori, a situation\n",
    "that is common in Physics and Chemistry, then a popular way of expanding $U$\n",
    "is by using the Trotter-Suzuki approximation. If the form of $H$ is not\n",
    "known a priori as is common in Artificial Intelligence, then\n",
    "we recommend using the CS (Cosine-Sine) decomposition of Linear Algebra.\n",
    "Both methods are already implemented in Qubiter, but this notebook is about\n",
    "the CSD.\n",
    "\n",
    "Doing CSD quantum compiling with Qubiter requires using the classes in the quantum_compiler\n",
    "folder, which will only work properly if you install, besides all the Qubiter\n",
    "Python files and a Python distro that includes numpy and scipy (for example, Anaconda),\n",
    "some binary libraries prepared by Artiste-q.net which include\n",
    "a Python wrapper for a LAPACK subroutine\n",
    "called cuncsd.f that performs CSDs. How to install those binary libraries\n",
    "is explained elsewhere in this site. Henceforth, we will assume \n",
    "all the necessary files have been installed on your computer if you want to redo the calculations.\n",
    "\n",
    "The quantum_compiler folder includes a pdf called csd-intro.pdf that gives\n",
    "an introduction to the CSD. \n",
    "\n",
    "Some external references:\n",
    "\n",
    "\n",
    "1. R.R. Tucci, A Rudimentary Quantum Compiler(2cnd Ed.)\n",
    "    https://arxiv.org/abs/quant-ph/9902062\n",
    "\n",
    "2. Qubiter 1.11, a C++ program whose first version was released together\n",
    "    with Ref.1 above. Qubiter 1.11 is included in the\n",
    "    quantum_compiler/LEGACY folder of this newer, pythonic version of Qubiter\n",
    "    \n",
    "3. R.R. Tucci, Quantum Fast Fourier Transform Viewed as a Special Case of Recursive Application of Cosine-Sine Decomposition, https://arxiv.org/abs/quant-ph/0411097\n",
    "\n"
   ]
  },
  {
   "cell_type": "markdown",
   "metadata": {
    "nbpresent": {
     "id": "95230611-c19b-4b8c-acb0-81b196ca655c"
    }
   },
   "source": [
    "Qubiter applies CSD recursively\n",
    "to build a tree of node matrices. The product of those node matrices,\n",
    "if read in the correct order, is equal to the input matrix $U$.\n",
    "\n",
    "As an example, let us use for $U$ a 3 qubit quantum Fourier matrix.\n",
    "We can create an object of class Tree with $U$ \n",
    "as input as follows"
   ]
  },
  {
   "cell_type": "code",
   "execution_count": 1,
   "metadata": {},
   "outputs": [
    {
     "name": "stdout",
     "output_type": "stream",
     "text": [
      "/home/jupyter/Notebooks/Quantum/qubiter/jupyter-notebooks\n",
      "/home/jupyter/Notebooks/Quantum/qubiter\n"
     ]
    }
   ],
   "source": [
    "import os\n",
    "import sys\n",
    "print(os.getcwd())\n",
    "os.chdir('../')\n",
    "print(os.getcwd())\n",
    "sys.path.insert(0,os.getcwd())"
   ]
  },
  {
   "cell_type": "code",
   "execution_count": 2,
   "metadata": {
    "collapsed": true,
    "nbpresent": {
     "id": "ea26bc82-841b-425d-b0c4-74540869ad6a"
    },
    "scrolled": false
   },
   "outputs": [],
   "source": [
    "import numpy as np\n",
    "import cuncsd_sq as csd\n",
    "import math\n",
    "from FouSEO_writer import *\n",
    "from quantum_compiler.Tree import *\n",
    "from quantum_compiler.DiagUnitarySEO_writer import *\n",
    "from quantum_compiler.MultiplexorSEO_writer import *\n",
    "import pandas as pd"
   ]
  },
  {
   "cell_type": "code",
   "execution_count": 3,
   "metadata": {
    "nbpresent": {
     "id": "cbcd576b-5021-4e60-892f-b82890a8c8d2"
    },
    "scrolled": true
   },
   "outputs": [],
   "source": [
    "num_bits = 3\n",
    "init_unitary_mat = FouSEO_writer.fourier_trans_mat(1 << num_bits)\n",
    "emb = CktEmbedder(num_bits, num_bits)\n",
    "file_prefix = 'io_folder/csd_test'\n",
    "t = Tree(True, file_prefix, emb, init_unitary_mat, verbose=False)\n",
    "t.close_files()"
   ]
  },
  {
   "cell_type": "markdown",
   "metadata": {
    "nbpresent": {
     "id": "8202ff8a-30da-444a-8c15-38428e6aa911"
    }
   },
   "source": [
    "The above code automatically creates an expansion of $U$ \n",
    "into DIAG and MP_Y lines. Next we print the Picture file that was created."
   ]
  },
  {
   "cell_type": "code",
   "execution_count": 4,
   "metadata": {
    "scrolled": false
   },
   "outputs": [
    {
     "data": {
      "text/html": [
       "<div>\n",
       "<table border=\"1\" class=\"dataframe\">\n",
       "  <thead>\n",
       "    <tr style=\"text-align: right;\">\n",
       "      <th></th>\n",
       "      <th>0</th>\n",
       "    </tr>\n",
       "  </thead>\n",
       "  <tbody>\n",
       "    <tr>\n",
       "      <th>0</th>\n",
       "      <td>%---%---%</td>\n",
       "    </tr>\n",
       "    <tr>\n",
       "      <th>1</th>\n",
       "      <td>%---%---Ry</td>\n",
       "    </tr>\n",
       "    <tr>\n",
       "      <th>2</th>\n",
       "      <td>%---%---%</td>\n",
       "    </tr>\n",
       "    <tr>\n",
       "      <th>3</th>\n",
       "      <td>%---Ry--%</td>\n",
       "    </tr>\n",
       "    <tr>\n",
       "      <th>4</th>\n",
       "      <td>%---%---%</td>\n",
       "    </tr>\n",
       "    <tr>\n",
       "      <th>5</th>\n",
       "      <td>%---%---Ry</td>\n",
       "    </tr>\n",
       "    <tr>\n",
       "      <th>6</th>\n",
       "      <td>%---%---%</td>\n",
       "    </tr>\n",
       "    <tr>\n",
       "      <th>7</th>\n",
       "      <td>Ry--%---%</td>\n",
       "    </tr>\n",
       "    <tr>\n",
       "      <th>8</th>\n",
       "      <td>%---%---%</td>\n",
       "    </tr>\n",
       "    <tr>\n",
       "      <th>9</th>\n",
       "      <td>%---%---Ry</td>\n",
       "    </tr>\n",
       "    <tr>\n",
       "      <th>10</th>\n",
       "      <td>%---%---%</td>\n",
       "    </tr>\n",
       "    <tr>\n",
       "      <th>11</th>\n",
       "      <td>%---Ry--%</td>\n",
       "    </tr>\n",
       "    <tr>\n",
       "      <th>12</th>\n",
       "      <td>%---%---%</td>\n",
       "    </tr>\n",
       "    <tr>\n",
       "      <th>13</th>\n",
       "      <td>%---%---Ry</td>\n",
       "    </tr>\n",
       "    <tr>\n",
       "      <th>14</th>\n",
       "      <td>%---%---%</td>\n",
       "    </tr>\n",
       "  </tbody>\n",
       "</table>\n",
       "</div>"
      ],
      "text/plain": [
       "             0\n",
       "0    %---%---%\n",
       "1   %---%---Ry\n",
       "2    %---%---%\n",
       "3    %---Ry--%\n",
       "4    %---%---%\n",
       "5   %---%---Ry\n",
       "6    %---%---%\n",
       "7    Ry--%---%\n",
       "8    %---%---%\n",
       "9   %---%---Ry\n",
       "10   %---%---%\n",
       "11   %---Ry--%\n",
       "12   %---%---%\n",
       "13  %---%---Ry\n",
       "14   %---%---%"
      ]
     },
     "execution_count": 4,
     "metadata": {},
     "output_type": "execute_result"
    }
   ],
   "source": [
    "file = file_prefix + '_3_ZLpic.txt'\n",
    "df = pd.read_csv(file, delim_whitespace=True, header=None)\n",
    "df"
   ]
  },
  {
   "cell_type": "markdown",
   "metadata": {
    "nbpresent": {
     "id": "cbaa3fbd-53cb-4466-84b3-16b25b728381"
    }
   },
   "source": [
    "Let us also print the corresponding English file that was created."
   ]
  },
  {
   "cell_type": "code",
   "execution_count": 5,
   "metadata": {
    "scrolled": false
   },
   "outputs": [
    {
     "data": {
      "text/html": [
       "<div>\n",
       "<table border=\"1\" class=\"dataframe\">\n",
       "  <thead>\n",
       "    <tr style=\"text-align: right;\">\n",
       "      <th></th>\n",
       "      <th>0</th>\n",
       "      <th>1</th>\n",
       "      <th>2</th>\n",
       "      <th>3</th>\n",
       "      <th>4</th>\n",
       "      <th>5</th>\n",
       "      <th>6</th>\n",
       "      <th>7</th>\n",
       "      <th>8</th>\n",
       "      <th>9</th>\n",
       "      <th>10</th>\n",
       "      <th>11</th>\n",
       "      <th>12</th>\n",
       "      <th>13</th>\n",
       "    </tr>\n",
       "  </thead>\n",
       "  <tbody>\n",
       "    <tr>\n",
       "      <th>0</th>\n",
       "      <td>DIAG</td>\n",
       "      <td>IF</td>\n",
       "      <td>2:2</td>\n",
       "      <td>1:1</td>\n",
       "      <td>0:0</td>\n",
       "      <td>BY</td>\n",
       "      <td>0.0</td>\n",
       "      <td>67.500000</td>\n",
       "      <td>0.000000</td>\n",
       "      <td>-112.499984</td>\n",
       "      <td>0.000000</td>\n",
       "      <td>-112.499998</td>\n",
       "      <td>0.000000</td>\n",
       "      <td>67.499993</td>\n",
       "    </tr>\n",
       "    <tr>\n",
       "      <th>1</th>\n",
       "      <td>MP_Y</td>\n",
       "      <td>AT</td>\n",
       "      <td>0</td>\n",
       "      <td>IF</td>\n",
       "      <td>2:1</td>\n",
       "      <td>1:0</td>\n",
       "      <td>BY</td>\n",
       "      <td>45.000001</td>\n",
       "      <td>45.000005</td>\n",
       "      <td>45.000001</td>\n",
       "      <td>45.000005</td>\n",
       "      <td>NaN</td>\n",
       "      <td>NaN</td>\n",
       "      <td>NaN</td>\n",
       "    </tr>\n",
       "    <tr>\n",
       "      <th>2</th>\n",
       "      <td>DIAG</td>\n",
       "      <td>IF</td>\n",
       "      <td>2:2</td>\n",
       "      <td>1:1</td>\n",
       "      <td>0:0</td>\n",
       "      <td>BY</td>\n",
       "      <td>0.0</td>\n",
       "      <td>180.000005</td>\n",
       "      <td>134.999987</td>\n",
       "      <td>134.999973</td>\n",
       "      <td>180.000005</td>\n",
       "      <td>180.000005</td>\n",
       "      <td>-44.999971</td>\n",
       "      <td>135.000000</td>\n",
       "    </tr>\n",
       "    <tr>\n",
       "      <th>3</th>\n",
       "      <td>MP_Y</td>\n",
       "      <td>AT</td>\n",
       "      <td>1</td>\n",
       "      <td>IF</td>\n",
       "      <td>2:1</td>\n",
       "      <td>0:0</td>\n",
       "      <td>BY</td>\n",
       "      <td>17.632207</td>\n",
       "      <td>72.367808</td>\n",
       "      <td>17.632200</td>\n",
       "      <td>72.367794</td>\n",
       "      <td>NaN</td>\n",
       "      <td>NaN</td>\n",
       "      <td>NaN</td>\n",
       "    </tr>\n",
       "    <tr>\n",
       "      <th>4</th>\n",
       "      <td>DIAG</td>\n",
       "      <td>IF</td>\n",
       "      <td>2:2</td>\n",
       "      <td>1:1</td>\n",
       "      <td>0:0</td>\n",
       "      <td>BY</td>\n",
       "      <td>0.0</td>\n",
       "      <td>-179.999991</td>\n",
       "      <td>0.000000</td>\n",
       "      <td>-0.000001</td>\n",
       "      <td>0.000000</td>\n",
       "      <td>0.000002</td>\n",
       "      <td>0.000000</td>\n",
       "      <td>-179.999964</td>\n",
       "    </tr>\n",
       "    <tr>\n",
       "      <th>5</th>\n",
       "      <td>MP_Y</td>\n",
       "      <td>AT</td>\n",
       "      <td>0</td>\n",
       "      <td>IF</td>\n",
       "      <td>2:1</td>\n",
       "      <td>1:0</td>\n",
       "      <td>BY</td>\n",
       "      <td>44.999988</td>\n",
       "      <td>44.999984</td>\n",
       "      <td>44.999994</td>\n",
       "      <td>45.000008</td>\n",
       "      <td>NaN</td>\n",
       "      <td>NaN</td>\n",
       "      <td>NaN</td>\n",
       "    </tr>\n",
       "    <tr>\n",
       "      <th>6</th>\n",
       "      <td>DIAG</td>\n",
       "      <td>IF</td>\n",
       "      <td>2:2</td>\n",
       "      <td>1:1</td>\n",
       "      <td>0:0</td>\n",
       "      <td>BY</td>\n",
       "      <td>-179.999991349</td>\n",
       "      <td>-0.000003</td>\n",
       "      <td>-180.000005</td>\n",
       "      <td>-179.999991</td>\n",
       "      <td>-90.000003</td>\n",
       "      <td>-89.999996</td>\n",
       "      <td>-90.000037</td>\n",
       "      <td>89.999989</td>\n",
       "    </tr>\n",
       "    <tr>\n",
       "      <th>7</th>\n",
       "      <td>MP_Y</td>\n",
       "      <td>AT</td>\n",
       "      <td>2</td>\n",
       "      <td>IF</td>\n",
       "      <td>1:1</td>\n",
       "      <td>0:0</td>\n",
       "      <td>BY</td>\n",
       "      <td>3.749999</td>\n",
       "      <td>26.249995</td>\n",
       "      <td>63.750001</td>\n",
       "      <td>86.249996</td>\n",
       "      <td>NaN</td>\n",
       "      <td>NaN</td>\n",
       "      <td>NaN</td>\n",
       "    </tr>\n",
       "    <tr>\n",
       "      <th>8</th>\n",
       "      <td>DIAG</td>\n",
       "      <td>IF</td>\n",
       "      <td>2:2</td>\n",
       "      <td>1:1</td>\n",
       "      <td>0:0</td>\n",
       "      <td>BY</td>\n",
       "      <td>0.0</td>\n",
       "      <td>90.000003</td>\n",
       "      <td>0.000000</td>\n",
       "      <td>-90.000023</td>\n",
       "      <td>0.000000</td>\n",
       "      <td>-90.000003</td>\n",
       "      <td>0.000000</td>\n",
       "      <td>90.000009</td>\n",
       "    </tr>\n",
       "    <tr>\n",
       "      <th>9</th>\n",
       "      <td>MP_Y</td>\n",
       "      <td>AT</td>\n",
       "      <td>0</td>\n",
       "      <td>IF</td>\n",
       "      <td>2:1</td>\n",
       "      <td>1:0</td>\n",
       "      <td>BY</td>\n",
       "      <td>45.000001</td>\n",
       "      <td>45.000001</td>\n",
       "      <td>44.999994</td>\n",
       "      <td>44.999998</td>\n",
       "      <td>NaN</td>\n",
       "      <td>NaN</td>\n",
       "      <td>NaN</td>\n",
       "    </tr>\n",
       "    <tr>\n",
       "      <th>10</th>\n",
       "      <td>DIAG</td>\n",
       "      <td>IF</td>\n",
       "      <td>2:2</td>\n",
       "      <td>1:1</td>\n",
       "      <td>0:0</td>\n",
       "      <td>BY</td>\n",
       "      <td>0.0</td>\n",
       "      <td>180.000005</td>\n",
       "      <td>0.000012</td>\n",
       "      <td>-0.000016</td>\n",
       "      <td>0.000000</td>\n",
       "      <td>180.000005</td>\n",
       "      <td>0.000012</td>\n",
       "      <td>-0.000021</td>\n",
       "    </tr>\n",
       "    <tr>\n",
       "      <th>11</th>\n",
       "      <td>MP_Y</td>\n",
       "      <td>AT</td>\n",
       "      <td>1</td>\n",
       "      <td>IF</td>\n",
       "      <td>2:1</td>\n",
       "      <td>0:0</td>\n",
       "      <td>BY</td>\n",
       "      <td>17.632198</td>\n",
       "      <td>72.367808</td>\n",
       "      <td>17.632190</td>\n",
       "      <td>72.367808</td>\n",
       "      <td>NaN</td>\n",
       "      <td>NaN</td>\n",
       "      <td>NaN</td>\n",
       "    </tr>\n",
       "    <tr>\n",
       "      <th>12</th>\n",
       "      <td>DIAG</td>\n",
       "      <td>IF</td>\n",
       "      <td>2:2</td>\n",
       "      <td>1:1</td>\n",
       "      <td>0:0</td>\n",
       "      <td>BY</td>\n",
       "      <td>0.0</td>\n",
       "      <td>180.000005</td>\n",
       "      <td>0.000000</td>\n",
       "      <td>-0.000019</td>\n",
       "      <td>0.000000</td>\n",
       "      <td>-179.999978</td>\n",
       "      <td>0.000000</td>\n",
       "      <td>0.000031</td>\n",
       "    </tr>\n",
       "    <tr>\n",
       "      <th>13</th>\n",
       "      <td>MP_Y</td>\n",
       "      <td>AT</td>\n",
       "      <td>0</td>\n",
       "      <td>IF</td>\n",
       "      <td>2:1</td>\n",
       "      <td>1:0</td>\n",
       "      <td>BY</td>\n",
       "      <td>44.999994</td>\n",
       "      <td>45.000005</td>\n",
       "      <td>45.000015</td>\n",
       "      <td>44.999998</td>\n",
       "      <td>NaN</td>\n",
       "      <td>NaN</td>\n",
       "      <td>NaN</td>\n",
       "    </tr>\n",
       "    <tr>\n",
       "      <th>14</th>\n",
       "      <td>DIAG</td>\n",
       "      <td>IF</td>\n",
       "      <td>2:2</td>\n",
       "      <td>1:1</td>\n",
       "      <td>0:0</td>\n",
       "      <td>BY</td>\n",
       "      <td>67.500007001</td>\n",
       "      <td>-44.999991</td>\n",
       "      <td>22.500009</td>\n",
       "      <td>89.999989</td>\n",
       "      <td>157.500010</td>\n",
       "      <td>-135.000000</td>\n",
       "      <td>112.499971</td>\n",
       "      <td>-0.000014</td>\n",
       "    </tr>\n",
       "  </tbody>\n",
       "</table>\n",
       "</div>"
      ],
      "text/plain": [
       "      0   1    2    3    4    5               6           7           8   \\\n",
       "0   DIAG  IF  2:2  1:1  0:0   BY             0.0   67.500000    0.000000   \n",
       "1   MP_Y  AT    0   IF  2:1  1:0              BY   45.000001   45.000005   \n",
       "2   DIAG  IF  2:2  1:1  0:0   BY             0.0  180.000005  134.999987   \n",
       "3   MP_Y  AT    1   IF  2:1  0:0              BY   17.632207   72.367808   \n",
       "4   DIAG  IF  2:2  1:1  0:0   BY             0.0 -179.999991    0.000000   \n",
       "5   MP_Y  AT    0   IF  2:1  1:0              BY   44.999988   44.999984   \n",
       "6   DIAG  IF  2:2  1:1  0:0   BY  -179.999991349   -0.000003 -180.000005   \n",
       "7   MP_Y  AT    2   IF  1:1  0:0              BY    3.749999   26.249995   \n",
       "8   DIAG  IF  2:2  1:1  0:0   BY             0.0   90.000003    0.000000   \n",
       "9   MP_Y  AT    0   IF  2:1  1:0              BY   45.000001   45.000001   \n",
       "10  DIAG  IF  2:2  1:1  0:0   BY             0.0  180.000005    0.000012   \n",
       "11  MP_Y  AT    1   IF  2:1  0:0              BY   17.632198   72.367808   \n",
       "12  DIAG  IF  2:2  1:1  0:0   BY             0.0  180.000005    0.000000   \n",
       "13  MP_Y  AT    0   IF  2:1  1:0              BY   44.999994   45.000005   \n",
       "14  DIAG  IF  2:2  1:1  0:0   BY    67.500007001  -44.999991   22.500009   \n",
       "\n",
       "            9           10          11          12          13  \n",
       "0  -112.499984    0.000000 -112.499998    0.000000   67.499993  \n",
       "1    45.000001   45.000005         NaN         NaN         NaN  \n",
       "2   134.999973  180.000005  180.000005  -44.999971  135.000000  \n",
       "3    17.632200   72.367794         NaN         NaN         NaN  \n",
       "4    -0.000001    0.000000    0.000002    0.000000 -179.999964  \n",
       "5    44.999994   45.000008         NaN         NaN         NaN  \n",
       "6  -179.999991  -90.000003  -89.999996  -90.000037   89.999989  \n",
       "7    63.750001   86.249996         NaN         NaN         NaN  \n",
       "8   -90.000023    0.000000  -90.000003    0.000000   90.000009  \n",
       "9    44.999994   44.999998         NaN         NaN         NaN  \n",
       "10   -0.000016    0.000000  180.000005    0.000012   -0.000021  \n",
       "11   17.632190   72.367808         NaN         NaN         NaN  \n",
       "12   -0.000019    0.000000 -179.999978    0.000000    0.000031  \n",
       "13   45.000015   44.999998         NaN         NaN         NaN  \n",
       "14   89.999989  157.500010 -135.000000  112.499971   -0.000014  "
      ]
     },
     "execution_count": 5,
     "metadata": {},
     "output_type": "execute_result"
    }
   ],
   "source": [
    "file = file_prefix + '_3_eng.txt'\n",
    "df = pd.read_csv(file, delim_whitespace=True, header=None)\n",
    "df"
   ]
  },
  {
   "cell_type": "markdown",
   "metadata": {
    "nbpresent": {
     "id": "47e7dac1-0f1f-4f0b-95fe-4d88ec2023cd"
    }
   },
   "source": [
    "In the Picture files, a DIAG\n",
    "appears as a chain of percents, whereas an MP_Y appears as a chain of percents\n",
    "and  an additional Ry gate. As you can\n",
    "see, the Picture file gives a nice picture of the DIAG and MP_Y gates,\n",
    "but the English file is much more specific. Look at Qubiter's Rosetta Stone\n",
    "(qubiter_rosetta_stone.pdf)\n",
    "if you want to understand how to interpret \n",
    "the parameters of DIAG and MP_Y lines.\n",
    "\n",
    "A DIAG represents a diagonal matrix with diagonal entries that\n",
    "are unit magnitude complex numbers, making the matrix unitary.\n",
    "\n",
    "An MP_Y represents a matrix of the form\n",
    "\n",
    "$\\left[\\begin{array}{cc} cc & ss \\\\ -ss & cc \\end{array}\\right]$\n",
    "\n",
    "where $cc$ and $ss$ are real diagonal matrices of the same size \n",
    "such that $cc^2 + ss^2 = 1$."
   ]
  },
  {
   "cell_type": "markdown",
   "metadata": {
    "nbpresent": {
     "id": "fc94a4d8-1113-46d5-a6a1-d48b5a54a622"
    }
   },
   "source": [
    "The class DiagUnitaryExpander\n",
    "will take any English file and \n",
    "write new English and Picture files wherein \n",
    "\n",
    "* all lines except those starting with DIAG are echoed,\n",
    "* lines starting with DIAG are replaced by an exact or approximate\n",
    "multiline expansion. \n",
    "\n",
    "Likewise, the class MultiplexorExpander\n",
    "will take any English file and \n",
    "write new English and Picture files wherein \n",
    "\n",
    "* all lines except those starting with MP_Y are echoed,\n",
    "* lines starting with MP_Y are replaced by an exact or approximate\n",
    "multiline expansion. \n",
    "\n",
    "We could use these 2 expander\n",
    "classes to construct new English and Picture files from the English \n",
    "file printed above. This would lead to an English file\n",
    "that consisted of only CNOTs and qubit rotations. If the \n",
    "gates of that new English file were multiplied,\n",
    "the product would equal the original $U$. Such an English file would\n",
    "be very long and not too instructive so we won't show it here.\n",
    "Instead, we will show an exact expansion of a single DIAG and \n",
    "of a single MP_Y.\n"
   ]
  },
  {
   "cell_type": "markdown",
   "metadata": {
    "nbpresent": {
     "id": "005a517d-218d-4ba8-a17d-a5b2d2183291"
    }
   },
   "source": [
    "Next, we create English and Picture files containing\n",
    "an expansion of the 4 qubit gate\n",
    "\n",
    "%---%---%---%\n",
    "\n",
    "This represents a diagonal unitary matrix. The \n",
    "angles are chosen at random and stored in the variable rad_angles.\n",
    "We then print the Picture file."
   ]
  },
  {
   "cell_type": "code",
   "execution_count": 6,
   "metadata": {
    "nbpresent": {
     "id": "5b7f9712-6755-492b-834d-1bd68521c11c"
    },
    "scrolled": false
   },
   "outputs": [
    {
     "name": "stdout",
     "output_type": "stream",
     "text": [
      "|   |   |   Ph  \n",
      "|   |   |   Rz  \n",
      "|   |   @---X   \n",
      "|   |   |   Rz  \n",
      "|   |   @---X   \n",
      "|   |   Rz  |   \n",
      "|   @---X   |   \n",
      "|   |   Rz  |   \n",
      "|   @---X   |   \n",
      "|   |   @---X   \n",
      "|   @---+---X   \n",
      "|   |   |   Rz  \n",
      "|   |   @---X   \n",
      "|   |   |   Rz  \n",
      "|   @---+---X   \n",
      "|   Rz  |   |   \n",
      "@---X   |   |   \n",
      "|   Rz  |   |   \n",
      "@---X   |   |   \n",
      "|   @---+---X   \n",
      "@---+---+---X   \n",
      "|   |   |   Rz  \n",
      "|   |   @---X   \n",
      "|   |   |   Rz  \n",
      "|   |   @---X   \n",
      "|   @---+---X   \n",
      "@---+---+---X   \n",
      "|   @---X   |   \n",
      "@---+---X   |   \n",
      "|   |   Rz  |   \n",
      "|   @---X   |   \n",
      "|   |   Rz  |   \n",
      "@---+---X   |   \n",
      "|   |   @---X   \n",
      "@---+---+---X   \n",
      "|   |   |   Rz  \n",
      "|   |   @---X   \n",
      "|   |   |   Rz  \n",
      "@---+---+---X   \n",
      "Rz  |   |   |   \n",
      "\n"
     ]
    }
   ],
   "source": [
    "file_prefix = \"io_folder/d_unitary_exact_check\"\n",
    "num_bits = 4\n",
    "num_angles = (1 << num_bits)\n",
    "emb = CktEmbedder(num_bits, num_bits)\n",
    "rad_angles = list(np.random.rand(num_angles)*2*np.pi)\n",
    "wr = DiagUnitarySEO_writer(file_prefix, emb, 'exact', rad_angles)\n",
    "wr.write()\n",
    "wr.close_files()\n",
    "file = file_prefix + '_4_ZLpic.txt'\n",
    "with open(file) as f:\n",
    "    print(f.read())"
   ]
  },
  {
   "cell_type": "markdown",
   "metadata": {
    "nbpresent": {
     "id": "f4f86caa-cf9f-4c5a-ab9c-130b5a22dc02"
    }
   },
   "source": [
    "We can check that our exact expansion is correct\n",
    "as follows. We can multiply the gates of the expansion\n",
    "using the class SEO_MatrixProduct. Call the gate product matpro.prod_arr.\n",
    "Using the angles rad_angles that we stored,\n",
    "we can construct the exact diagonal unitary, call it exact_mat.\n",
    "Call err the norm of matpro.prod_arr - exact_mat,\n",
    "and print err."
   ]
  },
  {
   "cell_type": "code",
   "execution_count": 7,
   "metadata": {
    "nbpresent": {
     "id": "51e1a777-aafa-4e50-bec3-fe6369bfe552"
    },
    "scrolled": false
   },
   "outputs": [
    {
     "name": "stdout",
     "output_type": "stream",
     "text": [
      "diag unitary error= 6.97667465409e-12\n"
     ]
    }
   ],
   "source": [
    "matpro = SEO_MatrixProduct(file_prefix, num_bits)\n",
    "exact_mat = DiagUnitarySEO_writer.du_mat(rad_angles)\n",
    "err = np.linalg.norm(matpro.prod_arr - exact_mat)\n",
    "print(\"diag unitary error=\", err)"
   ]
  },
  {
   "cell_type": "markdown",
   "metadata": {
    "nbpresent": {
     "id": "11cee14b-e769-4a6a-a487-2c5d9d67d9b8"
    }
   },
   "source": [
    "Next, we create English and Picture files containing\n",
    "an expansion of the 4 qubit gate\n",
    "\n",
    "Ry--%---%---%\n",
    "\n",
    "This represents a multiplexor matrix. The \n",
    "angles are chosen at random and stored in the variable rad_angles.\n",
    "We then print the Picture file."
   ]
  },
  {
   "cell_type": "code",
   "execution_count": 8,
   "metadata": {
    "nbpresent": {
     "id": "7909a750-1d68-4275-ae25-8fadbc3551be"
    },
    "scrolled": false
   },
   "outputs": [
    {
     "name": "stdout",
     "output_type": "stream",
     "text": [
      "Ry  |   |   |   \n",
      "X---+---+---@   \n",
      "Ry  |   |   |   \n",
      "X---+---@   |   \n",
      "Ry  |   |   |   \n",
      "X---+---+---@   \n",
      "Ry  |   |   |   \n",
      "X---@   |   |   \n",
      "Ry  |   |   |   \n",
      "X---+---+---@   \n",
      "Ry  |   |   |   \n",
      "X---+---@   |   \n",
      "Ry  |   |   |   \n",
      "X---+---+---@   \n",
      "Ry  |   |   |   \n",
      "X---@   |   |   \n",
      "\n"
     ]
    }
   ],
   "source": [
    "file_prefix = \"io_folder/plexor_exact_check\"\n",
    "num_bits = 4\n",
    "num_angles = (1 << (num_bits-1))\n",
    "emb = CktEmbedder(num_bits, num_bits)\n",
    "rad_angles = list(np.random.rand(num_angles)*2*np.pi)\n",
    "wr = MultiplexorSEO_writer(file_prefix, emb, 'exact', rad_angles)\n",
    "wr.write()\n",
    "wr.close_files()\n",
    "file = file_prefix + '_4_ZLpic.txt'\n",
    "with open(file) as f:\n",
    "    print(f.read())"
   ]
  },
  {
   "cell_type": "markdown",
   "metadata": {
    "nbpresent": {
     "id": "96ad7095-cdce-49bd-9d31-9fa7209592a9"
    }
   },
   "source": [
    "We can check that our exact expansion is correct\n",
    "as follows. We can multiply the gates of the expansion\n",
    "using the class SEO_MatrixProduct. Call the gate product matpro.prod_arr.\n",
    "Using the angles rad_angles that we stored,\n",
    "we can construct the exact multiplexor matrix, call it exact_mat.\n",
    "Call err the norm of matpro.prod_arr - exact_mat,\n",
    "and print err."
   ]
  },
  {
   "cell_type": "code",
   "execution_count": 9,
   "metadata": {
    "nbpresent": {
     "id": "a44258b5-c8c1-47fd-a041-86a38804e28f"
    },
    "scrolled": false
   },
   "outputs": [
    {
     "name": "stdout",
     "output_type": "stream",
     "text": [
      "multiplexor error= 4.3325870955e-12\n"
     ]
    }
   ],
   "source": [
    "matpro = SEO_MatrixProduct(file_prefix, num_bits)\n",
    "exact_mat = MultiplexorSEO_writer.mp_mat(rad_angles)\n",
    "err = np.linalg.norm(matpro.prod_arr - exact_mat)\n",
    "print(\"multiplexor error=\", err)"
   ]
  },
  {
   "cell_type": "markdown",
   "metadata": {
    "nbpresent": {
     "id": "c7e4a893-42ab-4e39-833a-e0a29188fccd"
    }
   },
   "source": [
    "A moral of the above calculations is that using  CSD\n",
    "quantum compiling blindly will give a SEO for a quantum Fourier Transform QFT that is exponential in the number of qubits $n$. And yet we know that Coppersmith came up with an expansion for the QFT that is polynomial in $n$. But there is hope: CSD is not a unique decomposition.\n",
    "Ref.3 explains how one can coax a CSD compiler to yield Coppersmith's decompostion.\n",
    "\n",
    "Let $U$ be N dimensional, with $N = 2^n$, where $n$ = number of\n",
    "qubits. A general N dimensional unitary matrix has $N^2$ dofs (real\n",
    "degrees of freedom). That's because it has $N^2$ complex entries, so $2N^2$\n",
    "real parameters, but those parameters are subject to N real constraints\n",
    "and N(N-1)/2 complex constraints, for a total of $N^2$ real constraints.\n",
    "So $2N^2$ real parameters minus N^2 real constraints gives $N^2$ dofs.\n",
    "\n",
    "(a) Each DIAG (MP_Y, resp.) line of the CS decomp of $U$\n",
    "depends on N (N/2, resp.) angles and there are about N DIAG and N MP_Y\n",
    "lines. So the DIAG lines alone have enough dofs, $N^2$ of them, to cover\n",
    "all $N^2$ dofs of $U$. So clearly, there is a lot of\n",
    "redundancy in the CS decomp used by Qubiter. But, there is hope: the CS\n",
    "decomp is not unique, and it might be possible to choose a CS decomp\n",
    "that makes zero many of the angles in the DIAG and MP_Y lines. \n",
    "\n",
    "(b) The CS decomp as used here leads to order $N^2 = 2^{2n}$ cnots and\n",
    "qubit rotations so it is impractical for large N. But for small N,\n",
    "it can be useful. For large N, it might be possible to discover\n",
    "approximations to individual MP_Y and DIAG lines.\n",
    "    \n",
    "Clearly, there is much room for future research to improve (a) and (b).\n"
   ]
  },
  {
   "cell_type": "code",
   "execution_count": null,
   "metadata": {
    "collapsed": true,
    "nbpresent": {
     "id": "4f8703a8-bb89-441e-a63e-2856fe19cdc8"
    },
    "scrolled": false
   },
   "outputs": [],
   "source": []
  }
 ],
 "metadata": {
  "anaconda-cloud": {},
  "celltoolbar": "Raw Cell Format",
  "kernelspec": {
   "display_name": "Python 3",
   "language": "python",
   "name": "python3"
  },
  "language_info": {
   "codemirror_mode": {
    "name": "ipython",
    "version": 3
   },
   "file_extension": ".py",
   "mimetype": "text/x-python",
   "name": "python",
   "nbconvert_exporter": "python",
   "pygments_lexer": "ipython3",
   "version": "3.6.0"
  },
  "nbpresent": {
   "slides": {},
   "themes": {
    "default": "a50a26ea-9250-4d78-a796-a4577cc9eaa1",
    "theme": {
     "a50a26ea-9250-4d78-a796-a4577cc9eaa1": {
      "id": "a50a26ea-9250-4d78-a796-a4577cc9eaa1",
      "palette": {
       "19cc588f-0593-49c9-9f4b-e4d7cc113b1c": {
        "id": "19cc588f-0593-49c9-9f4b-e4d7cc113b1c",
        "rgb": [
         252,
         252,
         252
        ]
       },
       "31af15d2-7e15-44c5-ab5e-e04b16a89eff": {
        "id": "31af15d2-7e15-44c5-ab5e-e04b16a89eff",
        "rgb": [
         68,
         68,
         68
        ]
       },
       "50f92c45-a630-455b-aec3-788680ec7410": {
        "id": "50f92c45-a630-455b-aec3-788680ec7410",
        "rgb": [
         155,
         177,
         192
        ]
       },
       "c5cc3653-2ee1-402a-aba2-7caae1da4f6c": {
        "id": "c5cc3653-2ee1-402a-aba2-7caae1da4f6c",
        "rgb": [
         43,
         126,
         184
        ]
       },
       "efa7f048-9acb-414c-8b04-a26811511a21": {
        "id": "efa7f048-9acb-414c-8b04-a26811511a21",
        "rgb": [
         25.118061674008803,
         73.60176211453744,
         107.4819383259912
        ]
       }
      },
      "rules": {
       "blockquote": {
        "color": "50f92c45-a630-455b-aec3-788680ec7410"
       },
       "code": {
        "font-family": "Anonymous Pro"
       },
       "h1": {
        "color": "c5cc3653-2ee1-402a-aba2-7caae1da4f6c",
        "font-family": "Lato",
        "font-size": 8
       },
       "h2": {
        "color": "c5cc3653-2ee1-402a-aba2-7caae1da4f6c",
        "font-family": "Lato",
        "font-size": 6
       },
       "h3": {
        "color": "50f92c45-a630-455b-aec3-788680ec7410",
        "font-family": "Lato",
        "font-size": 5.5
       },
       "h4": {
        "color": "c5cc3653-2ee1-402a-aba2-7caae1da4f6c",
        "font-family": "Lato",
        "font-size": 5
       },
       "h5": {
        "font-family": "Lato"
       },
       "h6": {
        "font-family": "Lato"
       },
       "h7": {
        "font-family": "Lato"
       },
       "pre": {
        "font-family": "Anonymous Pro",
        "font-size": 4
       }
      },
      "text-base": {
       "font-family": "Merriweather",
       "font-size": 4
      }
     }
    }
   }
  },
  "toc": {
   "colors": {
    "hover_highlight": "#DAA520",
    "running_highlight": "#FF0000",
    "selected_highlight": "#FFD700"
   },
   "moveMenuLeft": true,
   "nav_menu": {
    "height": "30px",
    "width": "252px"
   },
   "navigate_menu": true,
   "number_sections": true,
   "sideBar": true,
   "threshold": 4,
   "toc_cell": false,
   "toc_section_display": "block",
   "toc_window_display": false,
   "widenNotebook": false
  }
 },
 "nbformat": 4,
 "nbformat_minor": 1
}
