{
 "cells": [
  {
   "cell_type": "markdown",
   "metadata": {},
   "source": [
    "# Translating Qubiter English file to IBM qasm2"
   ]
  },
  {
   "cell_type": "markdown",
   "metadata": {},
   "source": [
    "Note that Qubiter includes a file called Qubiter_to_IBMqasm.py. This file contains a \"translator\" class of the same name that translates Qubiter “English files” to IBM QASM2 files. \n",
    "\n",
    "You can manually copy&paste the contents of the qasm file produced by this Qubiter class into the “QASM Editor” at the IBM-Quantum-Experience website.\n",
    "\n",
    "Alternatively, if you install the code in this GitHub repository:\n",
    "\n",
    ">https://github.com/IBMResearch/python-sdk-quantum-experience\n",
    "\n",
    "you can write a Jupyter notebook that uses this Qubiter class to produce a qasm file\n",
    "and then transmits the contents of that qasm file to the IBM website. That way you can run a q circuit on the IBM hardware directly from the Jupyter notebook, without ever having to visit the IBM website.\n"
   ]
  },
  {
   "cell_type": "code",
   "execution_count": 1,
   "metadata": {},
   "outputs": [
    {
     "name": "stdout",
     "output_type": "stream",
     "text": [
      "/home/jupyter/Notebooks/Quantum/qubiter/jupyter-notebooks\n",
      "/home/jupyter/Notebooks/Quantum/qubiter\n"
     ]
    }
   ],
   "source": [
    "# Make the qubiter directory the cwd (current working directory) and \n",
    "# add its path to the path environment variable\n",
    "import os\n",
    "import sys\n",
    "print(os.getcwd())\n",
    "os.chdir('../')\n",
    "print(os.getcwd())\n",
    "sys.path.insert(0,os.getcwd())"
   ]
  },
  {
   "cell_type": "markdown",
   "metadata": {},
   "source": [
    "Next we import the class Qubiter_to_IBMqasm and print its very informative docstring so you can read it:"
   ]
  },
  {
   "cell_type": "code",
   "execution_count": 2,
   "metadata": {},
   "outputs": [],
   "source": [
    "from Qubiter_to_IBMqasm import *"
   ]
  },
  {
   "cell_type": "code",
   "execution_count": 3,
   "metadata": {
    "collapsed": true
   },
   "outputs": [],
   "source": [
    "# this tells notebook to send pager output to cell below instead of pager\n",
    "from __future__ import print_function\n",
    "\n",
    "def page_printer(data, start=0, screen_lines=0, pager_cmd=None):\n",
    "    if isinstance(data, dict):\n",
    "        data = data['text/plain']\n",
    "    print(data)\n",
    "\n",
    "import IPython.core.page\n",
    "IPython.core.page.page = page_printer"
   ]
  },
  {
   "cell_type": "code",
   "execution_count": 4,
   "metadata": {},
   "outputs": [
    {
     "name": "stdout",
     "output_type": "stream",
     "text": [
      "\u001b[0;31mInit signature:\u001b[0m \u001b[0mQubiter_to_IBMqasm\u001b[0m\u001b[0;34m(\u001b[0m\u001b[0mfile_prefix\u001b[0m\u001b[0;34m,\u001b[0m \u001b[0mnum_bits\u001b[0m\u001b[0;34m,\u001b[0m \u001b[0mverbose\u001b[0m\u001b[0;34m=\u001b[0m\u001b[0;32mFalse\u001b[0m\u001b[0;34m,\u001b[0m \u001b[0mwrite_qubiter_files\u001b[0m\u001b[0;34m=\u001b[0m\u001b[0;32mFalse\u001b[0m\u001b[0;34m,\u001b[0m \u001b[0;34m**\u001b[0m\u001b[0mkwargs\u001b[0m\u001b[0;34m)\u001b[0m\u001b[0;34m\u001b[0m\u001b[0m\n",
      "\u001b[0;31mDocstring:\u001b[0m     \n",
      "This class is a child of SEO_reader. It reads an input English file and\n",
      "writes an IBM qasm2 file which is a line by line translation of the\n",
      "input English file into the IBM qasm2 language. If the option\n",
      "write_qubiter_files is set to True, this class will also write new\n",
      "English and Picture files that are in 1-1 line correspondence with the\n",
      "output qasm file.\n",
      "\n",
      "The input English file that is read can only have lines of the following\n",
      "types or else the program will abort with an error message:\n",
      "\n",
      "1. single qubit rotations (HAD2, SIGX, SIGY, SIGZ, ROTX, ROTY, ROTZ or \n",
      "ROTN with no controls) \n",
      "\n",
      "2. simple CNOTs (SIGX with a single True control)\n",
      "\n",
      "3. NOTA lines\n",
      "\n",
      "If you have an English file that contains lines that are more\n",
      "complicated than this (because, for example, they contain rotations with\n",
      "one or more controls attached), you can use the expander classes\n",
      "CktExpander, DiagUnitaryExpander, MultiplexorExpander, to expand the\n",
      "circuit to an equivalent albeit longer circuit that satisfies\n",
      "constraints 1, 2, 3.\n",
      "\n",
      "This class expects exactly 5 qubits, call them 0, 1, .., 4. The input\n",
      "English file circuit can contain CNOTs between ANY pair of qubits and\n",
      "with any qubit as target.\n",
      "\n",
      "This class conforms with the most recent IBM qc (IBM Quantum Experience\n",
      "QASM2.0). The current IBM qc is not fully connected (not all pairs of\n",
      "qubits are physically connected). Furthermore, not all qubits can be\n",
      "targets of an elementary CNOT: only qubits 1, 2 and 4 can be targets.\n",
      "\n",
      "If an elementary CNOT is not allowed because its ends are disconnected\n",
      "or its target is forbidden, this class will replace that elementary CNOT\n",
      "by a compound CNOT; i.e., a sequence of 1 or 4 allowed elementary CNOTs\n",
      "(and a bunch of Hadamards) that is equivalent to the original elementary\n",
      "CNOT. Next we discuss how these compound CNOTs are defined.\n",
      "\n",
      "Note that the positions of the target X and control @ of a CNOT can be\n",
      "swapped with Hadamard matrices H. For example,\n",
      "\n",
      "X---@\n",
      "\n",
      "can be replaced by:\n",
      "\n",
      "H   H\n",
      "@---X\n",
      "H   H\n",
      "\n",
      "Hence, a CNOT between 2 connected ends but having a disallowed target\n",
      "can be replaced by 4 Hadamards and an elementary CNOT with the same ends\n",
      "and with an allowed target.\n",
      "\n",
      "Suppose qubits a and b are disconnected and we want to implement this:\n",
      "\n",
      "a   2   b\n",
      "X---+---@\n",
      "\n",
      "This class replaces this problematic elementary CNOT by:\n",
      "\n",
      "a   2   b\n",
      "X---@   |\n",
      "|   X---@\n",
      "X---@   |\n",
      "|   X---@\n",
      "\n",
      "=\n",
      "\n",
      "H   |   |\n",
      "|   H   |\n",
      "@---X\n",
      "|   H   |\n",
      "|   X---@\n",
      "|   H   |\n",
      "@---X\n",
      "|   H   |\n",
      "|   X---@\n",
      "H   |   |\n",
      "\n",
      "(This is allowed because qubit 2 is connected to all other qubits,\n",
      "including a and b).\n",
      "\n",
      "Footnote: QASM has \"measure\" operations and distinguishes between\n",
      "quantum registers qreg and classical registers creg. Qubiter does not\n",
      "use cregs because it uses the classical memory of your Linux PC instead.\n",
      "QASM has an intricate set of commands for measurements. Qubiter has a\n",
      "complete set of measurement commands too (see MEAS in Rosetta stone).\n",
      "The QASM and Qubiter measurement commands can obviously be translated\n",
      "into each other. We leave that part of the translation to a future\n",
      "version of this class.\n",
      "\n",
      "References\n",
      "----------\n",
      "1. https://github.com/IBMResearch/python-sdk-quantum-experience\n",
      "2. https://github.com/IBMQuantum/QASM\n",
      "\n",
      "Attributes\n",
      "----------\n",
      "num_ops : int\n",
      "    number of operations. Lines inside a loop with 'reps' repetitions\n",
      "    will count as 'reps' operations\n",
      "loop_to_cur_rep : dict[int, int]\n",
      "    a dictionary mapping loop number TO current repetition\n",
      "just_jumped : bool\n",
      "    flag used to alert when loop jumps from NEXT to LOOP\n",
      "line_count : int\n",
      "\n",
      "english_in : _io.TextIOWrapper\n",
      "    file object for input text file that stores English description of\n",
      "    circuit\n",
      "file_prefix : str\n",
      "    beginning of the name of English file being scanned\n",
      "loop_to_start_line : dict[int, int]\n",
      "    a dictionary mapping loop number TO loop line + 1\n",
      "loop_to_start_offset : dict[int, int]\n",
      "    a dictionary mapping loop number TO offset of loop's start\n",
      "loop_to_reps : dict[int, int]\n",
      "    a dictionary mapping loop number TO total number of repetitions of\n",
      "    loop\n",
      "loop_queue : list[int]\n",
      "    a queue of loops labelled by their id number\n",
      "num_bits : int\n",
      "    number of qubits in whole circuit\n",
      "tot_num_lines : int\n",
      "    number of lines in English file\n",
      "split_line : list[str]\n",
      "    storage space for a list of strings obtained by splitting a line\n",
      "\n",
      "verbose : bool\n",
      "allowed_tars : list[int]\n",
      "    Allowed targets. Qubits that are equipped in hardware to be targets\n",
      "    of an elementary CNOT. IBM qc currently has 5 qubits 0, 1, ...,\n",
      "    4. Out of those, only 1, 2 and 4 can be targets.\n",
      "missing_connections : list[tuple(int,int)]\n",
      "    Pairs of qubits that are not physically connected so they cannot be\n",
      "    the two ends of an elementary CNOT. This picture indicates which\n",
      "    qubits of the current IBM qc are connected:\n",
      "\n",
      "        4     0\n",
      "        | \\ / |\n",
      "        |  2  |\n",
      "        | / \\ |\n",
      "        3     1\n",
      "\n",
      "qasm_out : _io.TextIOWrapper\n",
      "    This output stream is used to write a qasm file based on the input\n",
      "    English file.\n",
      "qbtr_wr : SEO_writer\n",
      "    A SEO_writer object created iff write_qubiter_files is True.\n",
      "write_qubiter_files : bool\n",
      "    The class always writes a qasm text file based on the input English\n",
      "    file that is read. Iff this is True, the class also writes English\n",
      "    and Picture files.\n",
      "\u001b[0;31mInit docstring:\u001b[0m\n",
      "Constructor\n",
      "\n",
      "Parameters\n",
      "----------\n",
      "file_prefix : str\n",
      "num_bits : int\n",
      "verbose : bool\n",
      "write_qubiter_files : bool\n",
      "kwargs : dict[]\n",
      "\n",
      "Returns\n",
      "-------\n",
      "None\n",
      "\u001b[0;31mFile:\u001b[0m           ~/Notebooks/Quantum/qubiter/Qubiter_to_IBMqasm.py\n",
      "\u001b[0;31mType:\u001b[0m           type\n",
      "\n"
     ]
    }
   ],
   "source": [
    "Qubiter_to_IBMqasm?"
   ]
  },
  {
   "cell_type": "markdown",
   "metadata": {},
   "source": [
    "We've pre-inserted in Qubiter's io_folder an English file that puts the Qubiter translator through its paces. Let's print that file"
   ]
  },
  {
   "cell_type": "code",
   "execution_count": 5,
   "metadata": {},
   "outputs": [
    {
     "name": "stdout",
     "output_type": "stream",
     "text": [
      "HAD2  AT  3\n",
      "SIGX  AT  2\n",
      "SIGY  AT  2\n",
      "SIGZ  AT  2\n",
      "ROTX  30.0  AT  3\n",
      "ROTY  45.0  AT  3\n",
      "ROTZ  60.0  AT  3\n",
      "ROTN  30.0  45.0  60.0  AT 4\n",
      "NOTA  sigx(0)^n(1) (0-1 connected)\n",
      "SIGX  AT  0  IF  1T\n",
      "NOTA  sigx(1)^n(0)\n",
      "SIGX  AT  1  IF  0T\n",
      "NOTA  sigx(0)^n(2) (0-2 connected)\n",
      "SIGX  AT  0  IF  2T\n",
      "NOTA  sigx(2)^n(0)\n",
      "SIGX  AT  2  IF  0T\n",
      "NOTA  sigx(0)^n(3) (0-3 not connected)\n",
      "SIGX  AT  0  IF  3T\n",
      "NOTA  sigx(3)^n(0)\n",
      "SIGX  AT  3  IF  0T\n",
      "\n"
     ]
    }
   ],
   "source": [
    "file_prefix = 'io_folder/qbtr2ibm_test'\n",
    "fpath = file_prefix + '_5_eng.txt'\n",
    "with open(fpath) as f:\n",
    "    print(f.read())"
   ]
  },
  {
   "cell_type": "markdown",
   "metadata": {},
   "source": [
    "Next we create an object of the translator class"
   ]
  },
  {
   "cell_type": "code",
   "execution_count": 6,
   "metadata": {
    "collapsed": true
   },
   "outputs": [],
   "source": [
    "q2i = Qubiter_to_IBMqasm(file_prefix, 5, write_qubiter_files=True)"
   ]
  },
  {
   "cell_type": "markdown",
   "metadata": {},
   "source": [
    "The following 3 files were generated by the constructor just called:\n",
    "\n",
    "1. <a href='../io_folder/qbtr2ibm_test_X1_5_eng.txt'>../io_folder/qbtr2ibm_test_X1_5_eng.txt</a>\n",
    "2. <a href='../io_folder/qbtr2ibm_test_X1_5_ZLpic.txt'>../io_folder/qbtr2ibm_test_X1_5_ZLpic.txt</a>\n",
    "3. <a href='../io_folder/qbtr2ibm_test_qasm2.txt'>../io_folder/qbtr2ibm_test_qasm2.txt</a>\n",
    "\n",
    "Files 1 and 2 are Qubiter style English and Picture files (they differ from the input English file principally in that forbidden elementary CNOTs of the input English file have been replaced by compound CNOTs).\n",
    "\n",
    "File 3 is what we wanted. Try copy and pasting its contents in the IBM website."
   ]
  },
  {
   "cell_type": "code",
   "execution_count": null,
   "metadata": {
    "collapsed": true
   },
   "outputs": [],
   "source": []
  }
 ],
 "metadata": {
  "kernelspec": {
   "display_name": "Python 3",
   "language": "python",
   "name": "python3"
  },
  "language_info": {
   "codemirror_mode": {
    "name": "ipython",
    "version": 3
   },
   "file_extension": ".py",
   "mimetype": "text/x-python",
   "name": "python",
   "nbconvert_exporter": "python",
   "pygments_lexer": "ipython3",
   "version": "3.6.0"
  },
  "toc": {
   "colors": {
    "hover_highlight": "#DAA520",
    "running_highlight": "#FF0000",
    "selected_highlight": "#FFD700"
   },
   "moveMenuLeft": true,
   "nav_menu": {
    "height": "51px",
    "width": "252px"
   },
   "navigate_menu": true,
   "number_sections": true,
   "sideBar": true,
   "threshold": 4,
   "toc_cell": false,
   "toc_section_display": "block",
   "toc_window_display": false,
   "widenNotebook": false
  }
 },
 "nbformat": 4,
 "nbformat_minor": 2
}
